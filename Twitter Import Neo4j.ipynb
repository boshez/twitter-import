{
 "cells": [
  {
   "cell_type": "code",
   "execution_count": null,
   "metadata": {
    "collapsed": false
   },
   "outputs": [],
   "source": [
    "import os\n",
    "import time\n",
    "import requests\n",
    "import urllib\n",
    "import httplib\n",
    "import urlparse\n",
    "\n",
    "from neo4j.v1 import GraphDatabase, basic_auth\n",
    "\n",
    "neo4jUrl = os.environ.get('NEO4J_URL',\"bolt://localhost\")\n",
    "neo4jUser = os.environ.get('NEO4J_USER',\"neo4j\")\n",
    "neo4jPass = os.environ.get('NEO4J_PASSWORD',\"test\")\n",
    "bearerToken = os.environ.get('TWITTER_BEARER',\"\")\n",
    "\n",
    "if len(bearerToken) == 0 : \n",
    "    raise(Exception(\"No Twitter Bearer token configured\"))\n",
    "    \n",
    "driver = GraphDatabase.driver(neo4jUrl, auth=basic_auth(neo4jUser, neo4jPass))\n",
    "\n",
    "session = driver.session()\n",
    "\n",
    "# Add uniqueness constraints.\n",
    "session.run( \"CREATE CONSTRAINT ON (t:Tweet) ASSERT t.id IS UNIQUE;\")\n",
    "session.run( \"CREATE CONSTRAINT ON (u:User) ASSERT u.screen_name IS UNIQUE;\")\n",
    "session.run( \"CREATE INDEX ON :Tag(name);\")\n",
    "session.run( \"CREATE INDEX ON :Link(url);\")\n"
   ]
  },
  {
   "cell_type": "code",
   "execution_count": null,
   "metadata": {
    "collapsed": false
   },
   "outputs": [],
   "source": [
    "print(session.run( \"MATCH (n:Twitter) RETURN count(*)\").single())"
   ]
  },
  {
   "cell_type": "code",
   "execution_count": null,
   "metadata": {
    "collapsed": true
   },
   "outputs": [],
   "source": [
    "# Build query.\n",
    "importQuery = \"\"\"\n",
    "UNWIND {tweets} AS t\n",
    "\n",
    "WITH t\n",
    "ORDER BY t.id\n",
    "\n",
    "WITH t,\n",
    "     t.entities AS e,\n",
    "     t.user AS u,\n",
    "     t.retweeted_status AS retweet\n",
    "\n",
    "MERGE (tweet:Tweet:Twitter {id:t.id})\n",
    "SET tweet:Content, tweet.text = t.text,\n",
    "    tweet.created_at = t.created_at,\n",
    "    tweet.created = apoc.date.parse(t.created_at,'s','E MMM dd HH:mm:ss Z yyyy'),\n",
    "    tweet.favorites = t.favorite_count\n",
    "\n",
    "MERGE (user:User {screen_name:u.screen_name})\n",
    "SET user.name = u.name, user.id = u.id,\n",
    "    user.location = u.location,\n",
    "    user.followers = u.followers_count,\n",
    "    user.following = u.friends_count,\n",
    "    user.statuses = u.statuses_count,\n",
    "    user.profile_image_url = u.profile_image_url,\n",
    "    user:Twitter\n",
    "    \n",
    "MERGE (user)-[:POSTED]->(tweet)\n",
    "\n",
    "FOREACH (h IN e.hashtags |\n",
    "  MERGE (tag:Tag {name:LOWER(h.text)}) SET tag:Twitter\n",
    "  MERGE (tag)<-[:TAGGED]-(tweet)\n",
    ")\n",
    "\n",
    "FOREACH (u IN e.urls |\n",
    "  MERGE (url:Link {url:u.expanded_url})\n",
    "  ON CREATE SET url.short = case when length(u.expanded_url) < 25 then true else null end\n",
    "  SET url:Twitter\n",
    "  MERGE (tweet)-[:LINKED]->(url)\n",
    ")\n",
    "\n",
    "FOREACH (m IN e.user_mentions |\n",
    "  MERGE (mentioned:User {screen_name:m.screen_name})\n",
    "  ON CREATE SET mentioned.name = m.name, mentioned.id = m.id\n",
    "  SET mentioned:Twitter\n",
    "  MERGE (tweet)-[:MENTIONED]->(mentioned)\n",
    ")\n",
    "\n",
    "FOREACH (r IN [r IN [t.in_reply_to_status_id] WHERE r IS NOT NULL] |\n",
    "  MERGE (reply_tweet:Tweet:Twitter {id:r})\n",
    "  MERGE (tweet)-[:REPLIED_TO]->(reply_tweet)\n",
    "  SET tweet:Reply\n",
    ")\n",
    "\n",
    "FOREACH (retweet_id IN [x IN [retweet.id] WHERE x IS NOT NULL] |\n",
    "    MERGE (retweet_tweet:Tweet:Twitter {id:retweet_id})\n",
    "    MERGE (tweet)-[:RETWEETED]->(retweet_tweet)\n",
    "    SET tweet:Retweet\n",
    ")\n",
    "\"\"\"\n"
   ]
  },
  {
   "cell_type": "code",
   "execution_count": null,
   "metadata": {
    "collapsed": false,
    "scrolled": true
   },
   "outputs": [],
   "source": [
    "# todo as params\n",
    "search = os.environ.get(\"TWITTER_SEARCH\",'neo4j OR \"graph database\" OR \"graph databases\" OR graphdb OR graphconnect OR @neoquestions OR @Neo4jDE OR @Neo4jFr OR neotechnology')\n",
    "#\"\"\"\n",
    "#dumpdevos OR #rejectrex OR #resist OR #nodapl OR #theresistance OR #resistance OR #factsmatter OR #nobannowall OR \n",
    "#presson OR #notmypresident OR #alternativefacts OR \n",
    "#maga OR president OR @realdonaldtrump OR @GOP OR @POTUS OR devos OR tillerson OR #scotus\"\"\"\n",
    " \n",
    "q = urllib.quote_plus(search)\n",
    "maxPages = 100\n",
    "# False for retrieving history, True for catchup forward\n",
    "catch_up = False\n",
    "count = 100\n",
    "result_type = \"recent\"\n",
    "lang = \"en\"\n",
    "\n",
    "since_id = -1\n",
    "max_id = -1\n",
    "page = 1\n",
    "\n",
    "hasMore = True\n",
    "while hasMore and page <= maxPages:\n",
    "    if catch_up:\n",
    "        result = session.run(\"MATCH (t:Tweet:Content) RETURN max(t.id) as sinceId\")\n",
    "        for record in result:\n",
    "            print(record)\n",
    "            if record[\"sinceId\"] != None:\n",
    "                since_id = record[\"sinceId\"]\n",
    "#    else:\n",
    "#        result = session.run(\"MATCH (t:Tweet:Content) RETURN min(t.id) as maxId\")\n",
    "#        for record in result:\n",
    "#            if record[\"maxId\"] != None:\n",
    "#                max_id = record[\"maxId\"]\n",
    "\n",
    "    # Build URL.\n",
    "    apiUrl = \"https://api.twitter.com/1.1/search/tweets.json?q=%s&count=%s&result_type=%s&lang=%s\" % (q, count, result_type, lang)\n",
    "    if since_id != -1 :\n",
    "        apiUrl += \"&since_id=%s\" % (since_id)\n",
    "    if max_id != -1 :\n",
    "        apiUrl += \"&max_id=%s\" % (max_id)\n",
    "    # print(apiUrl)\n",
    "    response = requests.get(apiUrl, headers = {\"accept\":\"application/json\",\"Authorization\":\"Bearer \" + bearerToken})\n",
    "    if response.status_code <> 200:\n",
    "        raise(Exception(response.status_code, response.text))\n",
    "        \n",
    "    json = response.json()\n",
    "    meta = json[\"search_metadata\"]\n",
    "#    print(meta)\n",
    "    if not catch_up and meta.get('next_results',None) != None : \n",
    "        max_id=meta[\"next_results\"].split(\"=\")[1][0:-2]\n",
    "    tweets = json.get(\"statuses\",[])    \n",
    "    # print(len(tweets))\n",
    "    if len(tweets) > 0:\n",
    "        result = session.run(importQuery,{\"tweets\":tweets})\n",
    "        print(result.consume().counters)\n",
    "        page = page + 1\n",
    "    \n",
    "    hasMore = len(tweets) == count\n",
    "        \n",
    "    print(\"catch_up\",catch_up,\"more\",hasMore,\"page\",page,\"max_id\",max_id,\"since_id\",since_id,\"tweets\",len(tweets))\n",
    "    time.sleep(1)\n",
    "#    if json.get('quota_remaining',0) <= 0:\n",
    "#        time.sleep(10)\n",
    "    if json.get('backoff',None) != None:\n",
    "        print(\"backoff\",json['backoff'])\n",
    "        time.sleep(json['backoff']+5)"
   ]
  },
  {
   "cell_type": "code",
   "execution_count": null,
   "metadata": {
    "collapsed": true
   },
   "outputs": [],
   "source": [
    "def unshorten_url(url):\n",
    "    print(url)\n",
    "    if url == None or len(url) < 11:\n",
    "        return url\n",
    "    parsed = urlparse.urlparse(url)\n",
    "    h = httplib.HTTPConnection(parsed.netloc)\n",
    "    h.request('HEAD', parsed.path)\n",
    "    response = h.getresponse()\n",
    "    if response.status/100 == 3 and response.getheader('Location'):\n",
    "        loc = str(response.getheader('Location'))\n",
    "        print(url,parsed.netloc,loc,response.status)\n",
    "        if loc <> url and len(loc) <= 22:\n",
    "            return unshorten_url(loc)\n",
    "        else:\n",
    "            return loc\n",
    "    else:\n",
    "        return url"
   ]
  },
  {
   "cell_type": "code",
   "execution_count": null,
   "metadata": {
    "collapsed": false
   },
   "outputs": [],
   "source": [
    "# \"MATCH (link:Link) WHERE length(link.url) < 25 SET link.short = true\"\n",
    "result = session.run(\"MATCH (link:Link) WHERE exists(link.short) RETURN id(link) as id, link.url as url LIMIT {limit}\",{\"limit\":1000})\n",
    "update = []\n",
    "rows = 0\n",
    "for record in result:\n",
    "    resolved = unshorten_url(record[\"url\"])\n",
    "    rows = rows + 1\n",
    "    if resolved != record[\"url\"] :\n",
    "        update += [{\"id\":record[\"id\"],\"url\":resolved}]\n",
    "print(\"urls\",len(update),\"records\",rows)\n",
    "result = session.run(\"UNWIND {data} AS row MATCH (link) WHERE id(link) = row.id SET link.url = row.url REMOVE link.short\", {\"data\":update})\n",
    "print(result.consume().counters)"
   ]
  },
  {
   "cell_type": "code",
   "execution_count": null,
   "metadata": {
    "collapsed": true
   },
   "outputs": [],
   "source": [
    "session.close()"
   ]
  }
 ],
 "metadata": {
  "celltoolbar": "Raw Cell Format",
  "kernelspec": {
   "display_name": "Python 2",
   "language": "python",
   "name": "python2"
  },
  "language_info": {
   "codemirror_mode": {
    "name": "ipython",
    "version": 2
   },
   "file_extension": ".py",
   "mimetype": "text/x-python",
   "name": "python",
   "nbconvert_exporter": "python",
   "pygments_lexer": "ipython2",
   "version": "2.7.10"
  }
 },
 "nbformat": 4,
 "nbformat_minor": 2
}
